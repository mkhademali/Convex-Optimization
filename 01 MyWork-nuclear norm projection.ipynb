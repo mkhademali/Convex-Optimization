{
 "cells": [
  {
   "cell_type": "markdown",
   "metadata": {},
   "source": [
    "# Lecture 5"
   ]
  },
  {
   "cell_type": "markdown",
   "metadata": {},
   "source": [
    "# Nuclear Projection"
   ]
  },
  {
   "cell_type": "code",
   "execution_count": 58,
   "metadata": {},
   "outputs": [],
   "source": [
    "%matplotlib inline\n",
    "\n",
    "import numpy as np\n",
    "import pandas as pd\n",
    "import matplotlib\n",
    "import matplotlib.pyplot as plt\n",
    "\n",
    "np.random.seed(1337)\n",
    "from timeit import timeit\n"
   ]
  },
  {
   "cell_type": "code",
   "execution_count": 59,
   "metadata": {},
   "outputs": [
    {
     "data": {
      "text/plain": [
       "array([[-4, -3, -2],\n",
       "       [-1,  0,  1],\n",
       "       [ 2,  3,  4]])"
      ]
     },
     "execution_count": 59,
     "metadata": {},
     "output_type": "execute_result"
    }
   ],
   "source": [
    "# Defining a vector and turning it into Matrix\n",
    "b = np.arange(9)-4\n",
    "B = b.reshape((3,3))\n",
    "B"
   ]
  },
  {
   "cell_type": "markdown",
   "metadata": {},
   "source": [
    "<a name=\"nuclear-norm\"></a>\n",
    "\n",
    "## Nuclear Norm\n",
    "\n",
    "The *nuclear norm* (sometimes called *Schatten $1$-norm* or *trace norm*) of a matrix $A$, denoted $\\|A\\|_*$, is defined as the sum of its singular values\n",
    "\n",
    "<p>\n",
    "$$ \\|A\\|_* = \\sum_i \\sigma_i(A)\\,.$$\n",
    "</p>\n",
    "\n",
    "The norm can be computed from the singular value decomposition of $A$."
   ]
  },
  {
   "cell_type": "code",
   "execution_count": 60,
   "metadata": {},
   "outputs": [],
   "source": [
    "def nuclear_norm(A):\n",
    "    \"\"\"Nuclear norm of input matrix\"\"\"\n",
    "    return np.sum(np.linalg.svd(A)[1])"
   ]
  },
  {
   "cell_type": "code",
   "execution_count": 61,
   "metadata": {},
   "outputs": [
    {
     "data": {
      "text/plain": [
       "9.797958971132713"
      ]
     },
     "execution_count": 61,
     "metadata": {},
     "output_type": "execute_result"
    }
   ],
   "source": [
    "nuclear_norm(B)"
   ]
  },
  {
   "cell_type": "code",
   "execution_count": 62,
   "metadata": {},
   "outputs": [
    {
     "data": {
      "text/plain": [
       "9.797958971132713"
      ]
     },
     "execution_count": 62,
     "metadata": {},
     "output_type": "execute_result"
    }
   ],
   "source": [
    "from numpy.linalg import norm\n",
    "norm(B,'nuc')"
   ]
  },
  {
   "cell_type": "markdown",
   "metadata": {},
   "source": [
    "### Projection onto the nuclear norm ball\n",
    "\n",
    "We denote the unit ball of the nuclear norm by \n",
    "<p>\n",
    "$$B_*^{m\\times n}=\\{A\\in\\mathbb{R}^{m\\times n} \\mid \\|A\\|_*\\le 1\\}.$$\n",
    "</p>\n",
    "\n",
    "How can we project a matrix $A$ onto $B_*$? \n",
    " - Formally, we want to solve\n",
    "\n",
    "<p>\n",
    "$$\\min_{X\\in B_*}\\|A-X\\|_F^2$$\n",
    "</p>\n",
    "\n",
    "Due to the rotational invariance of the Frobenius norm, the solution is obtained by projecting the singular values onto the unit simplex.\n",
    "This operation corresponds to shifting all singular values by the same parameter $\\theta$ and clipping values at $0$ so that the sum of the shifted and clipped values is equal to $1.$"
   ]
  },
  {
   "cell_type": "code",
   "execution_count": 63,
   "metadata": {},
   "outputs": [],
   "source": [
    "def simplex_projection(s):\n",
    "    \"\"\"Projection onto the unit simplex.\"\"\"\n",
    "    if np.sum(s) <=1 and np.alltrue(s >= 0):\n",
    "        return s\n",
    "    # Code taken from https://gist.github.com/daien/1272551\n",
    "    # get the array of cumulative sums of a sorted (decreasing) copy of v\n",
    "    u = np.sort(s)[::-1]\n",
    "    cssv = np.cumsum(u)\n",
    "    # get the number of > 0 components of the optimal solution\n",
    "    rho = np.nonzero(u * np.arange(1, len(u)+1) > (cssv - 1))[0][-1]\n",
    "    # compute the Lagrange multiplier associated to the simplex constraint\n",
    "    theta = (cssv[rho] - 1) / (rho + 1.0)\n",
    "    # compute the projection by thresholding v using theta\n",
    "    return np.maximum(s-theta, 0)"
   ]
  },
  {
   "cell_type": "code",
   "execution_count": 64,
   "metadata": {},
   "outputs": [],
   "source": [
    "def nuclear_projection(A):\n",
    "    \"\"\"Projection onto nuclear norm ball.\"\"\"\n",
    "    U, s, V = np.linalg.svd(A, full_matrices=False)\n",
    "    s = simplex_projection(s)\n",
    "    return U.dot(np.diag(s).dot(V))"
   ]
  },
  {
   "cell_type": "code",
   "execution_count": 65,
   "metadata": {},
   "outputs": [
    {
     "data": {
      "text/plain": [
       "array([[-4.08248290e-01, -4.08248290e-01, -4.08248290e-01],\n",
       "       [ 4.80740672e-17,  4.80740672e-17,  4.80740672e-17],\n",
       "       [ 4.08248290e-01,  4.08248290e-01,  4.08248290e-01]])"
      ]
     },
     "execution_count": 65,
     "metadata": {},
     "output_type": "execute_result"
    }
   ],
   "source": [
    "nuclear_projection(B)"
   ]
  },
  {
   "cell_type": "markdown",
   "metadata": {},
   "source": [
    "## Cost of nuclear norm projection\n",
    "The nuclear norm projection is *not* a cheap operation. It requires a full SVD of the input matrix that in general requires cubic time. Below we illustrate that even on small input sizes, a single projection step is time-consuming. "
   ]
  },
  {
   "cell_type": "code",
   "execution_count": 66,
   "metadata": {},
   "outputs": [],
   "source": [
    "ts = []\n",
    "ns = [1000, 2000, 3000, 4000]\n",
    "for n in ns:\n",
    "    f = lambda: nuclear_projection(np.random.normal(0,1,(n, n)))\n",
    "    ts.append(timeit(f, number=1))"
   ]
  },
  {
   "cell_type": "code",
   "execution_count": 67,
   "metadata": {},
   "outputs": [
    {
     "data": {
      "text/plain": [
       "[<matplotlib.lines.Line2D at 0x24178160>]"
      ]
     },
     "execution_count": 67,
     "metadata": {},
     "output_type": "execute_result"
    },
    {
     "data": {
      "image/png": "[encoded data removed]",
      "text/plain": [
       "<Figure size 864x432 with 1 Axes>"
      ]
     },
     "metadata": {
      "needs_background": "light"
     },
     "output_type": "display_data"
    }
   ],
   "source": [
    "plt.figure(figsize=(12,6))\n",
    "plt.xlabel('Input dimension')\n",
    "plt.ylabel('Time (s)')\n",
    "plt.title('Cost of nuclear norm projection')\n",
    "plt.plot(ns, ts)"
   ]
  }
 ],
 "metadata": {
  "kernelspec": {
   "display_name": "Python 3",
   "language": "python",
   "name": "python3"
  },
  "language_info": {
   "codemirror_mode": {
    "name": "ipython",
    "version": 3
   },
   "file_extension": ".py",
   "mimetype": "text/x-python",
   "name": "python",
   "nbconvert_exporter": "python",
   "pygments_lexer": "ipython3",
   "version": "3.8.5"
  }
 },
 "nbformat": 4,
 "nbformat_minor": 2
}
